{
 "cells": [
  {
   "cell_type": "code",
   "execution_count": null,
   "metadata": {
    "_cell_guid": "b1076dfc-b9ad-4769-8c92-a6c4dae69d19",
    "_uuid": "8f2839f25d086af736a60e9eeb907d3b93b6e0e5"
   },
   "outputs": [],
   "source": [
    "# This Python 3 environment comes with many helpful analytics libraries installed\n",
    "# It is defined by the kaggle/python Docker image: https://github.com/kaggle/docker-python\n",
    "# For example, here's several helpful packages to load\n",
    "\n",
    "import numpy as np # linear algebra\n",
    "import pandas as pd # data processing, CSV file I/O (e.g. pd.read_csv)\n",
    "\n",
    "# Input data files are available in the read-only \"../input/\" directory\n",
    "# For example, running this (by clicking run or pressing Shift+Enter) will list all files under the input directory\n",
    "\n",
    "import os\n",
    "for dirname, _, filenames in os.walk('/kaggle/input'):\n",
    "    for filename in filenames:\n",
    "        print(os.path.join(dirname, filename))\n",
    "\n",
    "# You can write up to 5GB to the current directory (/kaggle/working/) that gets preserved as output when you create a version using \"Save & Run All\" \n",
    "# You can also write temporary files to /kaggle/temp/, but they won't be saved outside of the current session"
   ]
  },
  {
   "cell_type": "code",
   "execution_count": null,
   "metadata": {
    "_cell_guid": "79c7e3d0-c299-4dcb-8224-4455121ee9b0",
    "_uuid": "d629ff2d2480ee46fbb7e2d37f6b5fab8052498a"
   },
   "outputs": [],
   "source": [
    "!pip install ktrain"
   ]
  },
  {
   "cell_type": "code",
   "execution_count": null,
   "metadata": {},
   "outputs": [],
   "source": [
    "import ktrain\n",
    "from ktrain import text"
   ]
  },
  {
   "cell_type": "code",
   "execution_count": null,
   "metadata": {},
   "outputs": [],
   "source": [
    "\n",
    " "
   ]
  },
  {
   "cell_type": "code",
   "execution_count": null,
   "metadata": {},
   "outputs": [],
   "source": [
    "DATA_PATH = '/kaggle/input/covidornot/Trainhot.csv'\n",
    "NUM_WORDS = 30000\n",
    "MAXLEN = 200\n",
    "(x_train, y_train), (x_test, y_test), preproc = text.texts_from_csv(DATA_PATH,\n",
    "                      'text',\n",
    "                      preprocess_mode='bert',\n",
    "                      label_columns = [\"covid\", \"not\"],\n",
    "                      #val_filepath=None, # if None, 10% of data will be used for validation\n",
    "                      max_features=NUM_WORDS, \n",
    "                      maxlen=MAXLEN,\n",
    "                      val_pct=0.1,\n",
    "                      ngram_range=3\n",
    "                      )\n",
    "model = text.text_classifier('bert', (x_train, y_train), \n",
    "                            preproc=preproc)\n",
    "learner = ktrain.get_learner(model, train_data=(x_train, y_train), val_data=(x_test, y_test),batch_size=6)\n",
    "learner.fit_onecycle(2e-5, 2) \n",
    "predictor = ktrain.get_predictor(learner.model,preproc=preproc )\n",
    "test_path = '/kaggle/input/covidornot/test.csv'\n",
    "validation_set = pd.read_csv(test_path)\n",
    "data = validation_set['text']\n",
    "data = np.asarray(data)\n",
    "pred1 = predictor.predict(data,return_proba=True)"
   ]
  },
  {
   "cell_type": "code",
   "execution_count": null,
   "metadata": {},
   "outputs": [],
   "source": [
    "#learner.fit_onecycle(2e-5, 1) "
   ]
  },
  {
   "cell_type": "code",
   "execution_count": null,
   "metadata": {},
   "outputs": [],
   "source": [
    "DATA_PATH = '/kaggle/input/covidornot/Trainhot.csv'\n",
    "NUM_WORDS = 15000\n",
    "MAXLEN = 200\n",
    "(x_train, y_train), (x_test, y_test), preproc = text.texts_from_csv(DATA_PATH,\n",
    "                      'text',\n",
    "                      preprocess_mode='bert',\n",
    "                      label_columns = [\"covid\", \"not\"],\n",
    "                      #val_filepath=None, # if None, 10% of data will be used for validation\n",
    "                      max_features=NUM_WORDS, \n",
    "                      maxlen=MAXLEN,\n",
    "                      val_pct=0.1,\n",
    "                      ngram_range=3\n",
    "                      )\n",
    "model = text.text_classifier('bert', (x_train, y_train), \n",
    "                            preproc=preproc)\n",
    "learner = ktrain.get_learner(model, train_data=(x_train, y_train), val_data=(x_test, y_test),batch_size=6)\n",
    "learner.fit_onecycle(2e-5, 2) \n",
    "predictor = ktrain.get_predictor(learner.model,preproc=preproc )\n",
    "test_path = '/kaggle/input/covidornot/test.csv'\n",
    "validation_set = pd.read_csv(test_path)\n",
    "data = validation_set['text']\n",
    "data = np.asarray(data)\n",
    "pred2 = predictor.predict(data,return_proba=True)"
   ]
  },
  {
   "cell_type": "code",
   "execution_count": null,
   "metadata": {},
   "outputs": [],
   "source": [
    "#learner.fit_onecycle(2e-5, 1) "
   ]
  },
  {
   "cell_type": "code",
   "execution_count": null,
   "metadata": {},
   "outputs": [],
   "source": [
    "DATA_PATH = '/kaggle/input/covidornot/Trainhot.csv'\n",
    "NUM_WORDS = 15000\n",
    "MAXLEN = 200\n",
    "(x_train, y_train), (x_test, y_test), preproc = text.texts_from_csv(DATA_PATH,\n",
    "                      'text',\n",
    "                      preprocess_mode='bert',\n",
    "                      label_columns = [\"covid\", \"not\"],\n",
    "                      #val_filepath=None, # if None, 10% of data will be used for validation\n",
    "                      max_features=NUM_WORDS, \n",
    "                      maxlen=MAXLEN,\n",
    "                      val_pct=0.1,\n",
    "                      ngram_range=3\n",
    "                      )\n",
    "model = text.text_classifier('bert', (x_train, y_train), \n",
    "                            preproc=preproc)\n",
    "learner = ktrain.get_learner(model, train_data=(x_train, y_train), val_data=(x_test, y_test),batch_size=6)\n",
    "learner.fit_onecycle(2e-5, 2) \n",
    "predictor = ktrain.get_predictor(learner.model,preproc=preproc )\n",
    "test_path = '/kaggle/input/covidornot/test.csv'\n",
    "validation_set = pd.read_csv(test_path)\n",
    "data = validation_set['text']\n",
    "data = np.asarray(data)\n",
    "pred3 = predictor.predict(data,return_proba=True)"
   ]
  },
  {
   "cell_type": "code",
   "execution_count": null,
   "metadata": {},
   "outputs": [],
   "source": [
    "#learner.fit_onecycle(2e-5, 1) "
   ]
  },
  {
   "cell_type": "code",
   "execution_count": null,
   "metadata": {},
   "outputs": [],
   "source": [
    "DATA_PATH = '/kaggle/input/covidornot/Trainhot.csv'\n",
    "NUM_WORDS = 30000\n",
    "MAXLEN = 200\n",
    "(x_train, y_train), (x_test, y_test), preproc = text.texts_from_csv(DATA_PATH,\n",
    "                      'text',\n",
    "                      preprocess_mode='bert',\n",
    "                      label_columns = [\"covid\", \"not\"],\n",
    "                      #val_filepath=None, # if None, 10% of data will be used for validation\n",
    "                      max_features=NUM_WORDS, \n",
    "                      maxlen=MAXLEN,\n",
    "                      val_pct=0.1,\n",
    "                      ngram_range=3\n",
    "                      )\n",
    "model = text.text_classifier('bert', (x_train, y_train), \n",
    "                            preproc=preproc)\n",
    "learner = ktrain.get_learner(model, train_data=(x_train, y_train), val_data=(x_test, y_test),batch_size=6)\n",
    "learner.fit_onecycle(2e-5, 2) \n",
    "predictor = ktrain.get_predictor(learner.model,preproc=preproc )\n",
    "test_path = '/kaggle/input/covidornot/test.csv'\n",
    "validation_set = pd.read_csv(test_path)\n",
    "data = validation_set['text']\n",
    "data = np.asarray(data)\n",
    "pred4 = predictor.predict(data,return_proba=True)"
   ]
  },
  {
   "cell_type": "code",
   "execution_count": null,
   "metadata": {},
   "outputs": [],
   "source": [
    "DATA_PATH = '/kaggle/input/covidornot/Trainhot.csv'\n",
    "NUM_WORDS = 30000\n",
    "MAXLEN = 200\n",
    "(x_train, y_train), (x_test, y_test), preproc = text.texts_from_csv(DATA_PATH,\n",
    "                      'text',\n",
    "                      preprocess_mode='bert',\n",
    "                      label_columns = [\"covid\", \"not\"],\n",
    "                      #val_filepath=None, # if None, 10% of data will be used for validation\n",
    "                      max_features=NUM_WORDS, \n",
    "                      maxlen=MAXLEN,\n",
    "                      val_pct=0.1,\n",
    "                      ngram_range=3\n",
    "                      )\n",
    "model = text.text_classifier('bert', (x_train, y_train), \n",
    "                            preproc=preproc)\n",
    "learner = ktrain.get_learner(model, train_data=(x_train, y_train), val_data=(x_test, y_test),batch_size=6)\n",
    "learner.fit_onecycle(2e-5, 2) \n",
    "predictor = ktrain.get_predictor(learner.model,preproc=preproc )\n",
    "test_path = '/kaggle/input/covidornot/test.csv'\n",
    "validation_set = pd.read_csv(test_path)\n",
    "data = validation_set['text']\n",
    "data = np.asarray(data)\n",
    "pred5 = predictor.predict(data,return_proba=True)"
   ]
  },
  {
   "cell_type": "code",
   "execution_count": null,
   "metadata": {},
   "outputs": [],
   "source": [
    "DATA_PATH = '/kaggle/input/covidornot/Trainhot.csv'\n",
    "NUM_WORDS = 15000\n",
    "MAXLEN = 200\n",
    "(x_train, y_train), (x_test, y_test), preproc = text.texts_from_csv(DATA_PATH,\n",
    "                      'text',\n",
    "                      preprocess_mode='bert',\n",
    "                      label_columns = [\"covid\", \"not\"],\n",
    "                      #val_filepath=None, # if None, 10% of data will be used for validation\n",
    "                      max_features=NUM_WORDS, \n",
    "                      maxlen=MAXLEN,\n",
    "                      val_pct=0.1,\n",
    "                      ngram_range=3\n",
    "                      )\n",
    "model = text.text_classifier('bert', (x_train, y_train), \n",
    "                            preproc=preproc)\n",
    "learner = ktrain.get_learner(model, train_data=(x_train, y_train), val_data=(x_test, y_test),batch_size=6)\n",
    "learner.fit_onecycle(2e-5, 2) \n",
    "predictor = ktrain.get_predictor(learner.model,preproc=preproc )\n",
    "test_path = '/kaggle/input/covidornot/test.csv'\n",
    "validation_set = pd.read_csv(test_path)\n",
    "data = validation_set['text']\n",
    "data = np.asarray(data)\n",
    "pred6 = predictor.predict(data,return_proba=True)"
   ]
  },
  {
   "cell_type": "code",
   "execution_count": null,
   "metadata": {},
   "outputs": [],
   "source": [
    "DATA_PATH = '/kaggle/input/covidornot/Trainhot.csv'\n",
    "NUM_WORDS = 15000\n",
    "MAXLEN = 200\n",
    "(x_train, y_train), (x_test, y_test), preproc = text.texts_from_csv(DATA_PATH,\n",
    "                      'text',\n",
    "                      preprocess_mode='bert',\n",
    "                      label_columns = [\"covid\", \"not\"],\n",
    "                      #val_filepath=None, # if None, 10% of data will be used for validation\n",
    "                      max_features=NUM_WORDS, \n",
    "                      maxlen=MAXLEN,\n",
    "                      val_pct=0.1,\n",
    "                      ngram_range=1\n",
    "                      )\n",
    "model = text.text_classifier('bert', (x_train, y_train), \n",
    "                            preproc=preproc)\n",
    "learner = ktrain.get_learner(model, train_data=(x_train, y_train), val_data=(x_test, y_test),batch_size=6)\n",
    "learner.fit_onecycle(2e-5, 3) \n",
    "predictor = ktrain.get_predictor(learner.model,preproc=preproc )\n",
    "test_path = '/kaggle/input/covidornot/test.csv'\n",
    "validation_set = pd.read_csv(test_path)\n",
    "data = validation_set['text']\n",
    "data = np.asarray(data)\n",
    "pred7 = predictor.predict(data,return_proba=True)"
   ]
  },
  {
   "cell_type": "code",
   "execution_count": null,
   "metadata": {},
   "outputs": [],
   "source": [
    "DATA_PATH = '/kaggle/input/covidornot/Trainhot.csv'\n",
    "NUM_WORDS = 15000\n",
    "MAXLEN = 200\n",
    "(x_train, y_train), (x_test, y_test), preproc = text.texts_from_csv(DATA_PATH,\n",
    "                      'text',\n",
    "                      preprocess_mode='bert',\n",
    "                      label_columns = [\"covid\", \"not\"],\n",
    "                      #val_filepath=None, # if None, 10% of data will be used for validation\n",
    "                      max_features=NUM_WORDS, \n",
    "                      maxlen=MAXLEN,\n",
    "                      val_pct=0.1,\n",
    "                      ngram_range=1\n",
    "                      )\n",
    "model = text.text_classifier('bert', (x_train, y_train), \n",
    "                            preproc=preproc)\n",
    "learner = ktrain.get_learner(model, train_data=(x_train, y_train), val_data=(x_test, y_test),batch_size=6)\n",
    "learner.fit_onecycle(2e-5, 3) \n",
    "predictor = ktrain.get_predictor(learner.model,preproc=preproc )\n",
    "test_path = '/kaggle/input/covidornot/test.csv'\n",
    "validation_set = pd.read_csv(test_path)\n",
    "data = validation_set['text']\n",
    "data = np.asarray(data)\n",
    "pred8 = predictor.predict(data,return_proba=True)"
   ]
  },
  {
   "cell_type": "code",
   "execution_count": null,
   "metadata": {},
   "outputs": [],
   "source": [
    "DATA_PATH = '/kaggle/input/covidornot/Trainhot.csv'\n",
    "NUM_WORDS = 15000\n",
    "MAXLEN = 200\n",
    "(x_train, y_train), (x_test, y_test), preproc = text.texts_from_csv(DATA_PATH,\n",
    "                      'text',\n",
    "                      preprocess_mode='bert',\n",
    "                      label_columns = [\"covid\", \"not\"],\n",
    "                      #val_filepath=None, # if None, 10% of data will be used for validation\n",
    "                      max_features=NUM_WORDS, \n",
    "                      maxlen=MAXLEN,\n",
    "                      val_pct=0.1,\n",
    "                      ngram_range=1\n",
    "                      )\n",
    "model = text.text_classifier('bert', (x_train, y_train), \n",
    "                            preproc=preproc)\n",
    "learner = ktrain.get_learner(model, train_data=(x_train, y_train), val_data=(x_test, y_test),batch_size=6)\n",
    "learner.fit_onecycle(2e-5, 3) \n",
    "predictor = ktrain.get_predictor(learner.model,preproc=preproc )\n",
    "test_path = '/kaggle/input/covidornot/test.csv'\n",
    "validation_set = pd.read_csv(test_path)\n",
    "data = validation_set['text']\n",
    "data = np.asarray(data)\n",
    "pred9 = predictor.predict(data,return_proba=True)"
   ]
  },
  {
   "cell_type": "code",
   "execution_count": null,
   "metadata": {},
   "outputs": [],
   "source": [
    "DATA_PATH = '/kaggle/input/covidornot/Trainhot.csv'\n",
    "NUM_WORDS = 15000\n",
    "MAXLEN = 200\n",
    "(x_train, y_train), (x_test, y_test), preproc = text.texts_from_csv(DATA_PATH,\n",
    "                      'text',\n",
    "                      preprocess_mode='bert',\n",
    "                      label_columns = [\"covid\", \"not\"],\n",
    "                      #val_filepath=None, # if None, 10% of data will be used for validation\n",
    "                      max_features=NUM_WORDS, \n",
    "                      maxlen=MAXLEN,\n",
    "                      val_pct=0.1,\n",
    "                      ngram_range=1\n",
    "                      )\n",
    "model = text.text_classifier('bert', (x_train, y_train), \n",
    "                            preproc=preproc)\n",
    "learner = ktrain.get_learner(model, train_data=(x_train, y_train), val_data=(x_test, y_test),batch_size=6)\n",
    "learner.fit_onecycle(2e-5, 3) \n",
    "predictor = ktrain.get_predictor(learner.model,preproc=preproc )\n",
    "test_path = '/kaggle/input/covidornot/test.csv'\n",
    "validation_set = pd.read_csv(test_path)\n",
    "data = validation_set['text']\n",
    "data = np.asarray(data)\n",
    "pred10 = predictor.predict(data,return_proba=True)"
   ]
  },
  {
   "cell_type": "code",
   "execution_count": null,
   "metadata": {},
   "outputs": [],
   "source": [
    "DATA_PATH = '/kaggle/input/kenyaneed/Trainhot.csv'\n",
    "NUM_WORDS = 1500\n",
    "MAXLEN = 100\n",
    "(x_train, y_train), (x_test, y_test), preproc = text.texts_from_csv(DATA_PATH,\n",
    "                      'text',\n",
    "                      preprocess_mode='bert',\n",
    "                      label_columns = [\"Alcohol\", \"Depression\", \"Drugs\", \"Suicide\"],\n",
    "                      #val_filepath=None, # if None, 10% of data will be used for validation\n",
    "                      max_features=NUM_WORDS, \n",
    "                      maxlen=MAXLEN,\n",
    "                      val_pct=0.1,\n",
    "                      ngram_range=3\n",
    "                      )\n",
    "model = text.text_classifier('bert', (x_train, y_train), \n",
    "                            preproc=preproc)\n",
    "learner = ktrain.get_learner(model, train_data=(x_train, y_train), val_data=(x_test, y_test),batch_size=12)\n",
    "learner.fit_onecycle(2e-5, 6) \n",
    "predictor = ktrain.get_predictor(learner.model,preproc=preproc )\n",
    "test_path = '/kaggle/input/kenyaneed/Test.csv'\n",
    "validation_set = pd.read_csv(test_path)\n",
    "data = validation_set['text']\n",
    "data = np.asarray(data)\n",
    "pred11 = predictor.predict(data,return_proba=True)"
   ]
  },
  {
   "cell_type": "code",
   "execution_count": null,
   "metadata": {},
   "outputs": [],
   "source": [
    "DATA_PATH = '/kaggle/input/kenyaneed/Trainhot.csv'\n",
    "NUM_WORDS = 1500\n",
    "MAXLEN = 100\n",
    "(x_train, y_train), (x_test, y_test), preproc = text.texts_from_csv(DATA_PATH,\n",
    "                      'text',\n",
    "                      preprocess_mode='bert',\n",
    "                      label_columns = [\"Alcohol\", \"Depression\", \"Drugs\", \"Suicide\"],\n",
    "                      #val_filepath=None, # if None, 10% of data will be used for validation\n",
    "                      max_features=NUM_WORDS, \n",
    "                      maxlen=MAXLEN,\n",
    "                      val_pct=0.1,\n",
    "                      ngram_range=3\n",
    "                      )\n",
    "model = text.text_classifier('bert', (x_train, y_train), \n",
    "                            preproc=preproc)\n",
    "learner = ktrain.get_learner(model, train_data=(x_train, y_train), val_data=(x_test, y_test),batch_size=12)\n",
    "learner.fit_onecycle(2e-5, 6) \n",
    "predictor = ktrain.get_predictor(learner.model,preproc=preproc )\n",
    "test_path = '/kaggle/input/kenyaneed/Test.csv'\n",
    "validation_set = pd.read_csv(test_path)\n",
    "data = validation_set['text']\n",
    "data = np.asarray(data)\n",
    "pred12 = predictor.predict(data,return_proba=True)"
   ]
  },
  {
   "cell_type": "code",
   "execution_count": null,
   "metadata": {},
   "outputs": [],
   "source": [
    "DATA_PATH = '/kaggle/input/kenyaneed/Trainhot.csv'\n",
    "NUM_WORDS = 1500\n",
    "MAXLEN = 100\n",
    "(x_train, y_train), (x_test, y_test), preproc = text.texts_from_csv(DATA_PATH,\n",
    "                      'text',\n",
    "                      preprocess_mode='bert',\n",
    "                      label_columns = [\"Alcohol\", \"Depression\", \"Drugs\", \"Suicide\"],\n",
    "                      #val_filepath=None, # if None, 10% of data will be used for validation\n",
    "                      max_features=NUM_WORDS, \n",
    "                      maxlen=MAXLEN,\n",
    "                      val_pct=0.1,\n",
    "                      ngram_range=3\n",
    "                      )\n",
    "model = text.text_classifier('bert', (x_train, y_train), \n",
    "                            preproc=preproc)\n",
    "learner = ktrain.get_learner(model, train_data=(x_train, y_train), val_data=(x_test, y_test),batch_size=12)\n",
    "learner.fit_onecycle(2e-5, 6) \n",
    "predictor = ktrain.get_predictor(learner.model,preproc=preproc )\n",
    "test_path = '/kaggle/input/kenyaneed/Test.csv'\n",
    "validation_set = pd.read_csv(test_path)\n",
    "data = validation_set['text']\n",
    "data = np.asarray(data)\n",
    "pred13 = predictor.predict(data,return_proba=True)"
   ]
  },
  {
   "cell_type": "code",
   "execution_count": null,
   "metadata": {},
   "outputs": [],
   "source": [
    "DATA_PATH = '/kaggle/input/kenyaneed/Trainhot.csv'\n",
    "NUM_WORDS = 1500\n",
    "MAXLEN = 100\n",
    "(x_train, y_train), (x_test, y_test), preproc = text.texts_from_csv(DATA_PATH,\n",
    "                      'text',\n",
    "                      preprocess_mode='bert',\n",
    "                      label_columns = [\"Alcohol\", \"Depression\", \"Drugs\", \"Suicide\"],\n",
    "                      #val_filepath=None, # if None, 10% of data will be used for validation\n",
    "                      max_features=NUM_WORDS, \n",
    "                      maxlen=MAXLEN,\n",
    "                      val_pct=0.1,\n",
    "                      ngram_range=3\n",
    "                      )\n",
    "model = text.text_classifier('bert', (x_train, y_train), \n",
    "                            preproc=preproc)\n",
    "learner = ktrain.get_learner(model, train_data=(x_train, y_train), val_data=(x_test, y_test),batch_size=12)\n",
    "learner.fit_onecycle(2e-5, 6) \n",
    "predictor = ktrain.get_predictor(learner.model,preproc=preproc )\n",
    "test_path = '/kaggle/input/kenyaneed/Test.csv'\n",
    "validation_set = pd.read_csv(test_path)\n",
    "data = validation_set['text']\n",
    "data = np.asarray(data)\n",
    "pred14 = predictor.predict(data,return_proba=True)"
   ]
  },
  {
   "cell_type": "code",
   "execution_count": null,
   "metadata": {},
   "outputs": [],
   "source": [
    "DATA_PATH = '/kaggle/input/kenyaneed/Trainhot.csv'\n",
    "NUM_WORDS = 1500\n",
    "MAXLEN = 100\n",
    "(x_train, y_train), (x_test, y_test), preproc = text.texts_from_csv(DATA_PATH,\n",
    "                      'text',\n",
    "                      preprocess_mode='bert',\n",
    "                      label_columns = [\"Alcohol\", \"Depression\", \"Drugs\", \"Suicide\"],\n",
    "                      #val_filepath=None, # if None, 10% of data will be used for validation\n",
    "                      max_features=NUM_WORDS, \n",
    "                      maxlen=MAXLEN,\n",
    "                      val_pct=0.1,\n",
    "                      ngram_range=3\n",
    "                      )\n",
    "model = text.text_classifier('bert', (x_train, y_train), \n",
    "                            preproc=preproc)\n",
    "learner = ktrain.get_learner(model, train_data=(x_train, y_train), val_data=(x_test, y_test),batch_size=12)\n",
    "learner.fit_onecycle(2e-5, 6) \n",
    "predictor = ktrain.get_predictor(learner.model,preproc=preproc )\n",
    "test_path = '/kaggle/input/kenyaneed/Test.csv'\n",
    "validation_set = pd.read_csv(test_path)\n",
    "data = validation_set['text']\n",
    "data = np.asarray(data)\n",
    "pred15 = predictor.predict(data,return_proba=True)"
   ]
  },
  {
   "cell_type": "code",
   "execution_count": null,
   "metadata": {},
   "outputs": [],
   "source": [
    "#pred = (pred1+pred2+pred3+pred4+pred5+pred6+pred7+pred8+pred9+pred10+pred11+pred12+pred13+pred14+pred15)/15"
   ]
  },
  {
   "cell_type": "code",
   "execution_count": null,
   "metadata": {},
   "outputs": [],
   "source": [
    "pred = (pred1+pred2+pred3+pred4+pred5+pred6+pred7+pred8+pred9+pred10)/10\n",
    "\n",
    "#pred = (pred3+pred6)/2"
   ]
  },
  {
   "cell_type": "code",
   "execution_count": null,
   "metadata": {},
   "outputs": [],
   "source": [
    "#test_df = pd.read_csv('Test.csv')\n",
    "\n",
    "\n",
    "sub_df = pd.DataFrame(pred[:,0], columns=['target'])\n",
    "sub_df['ID'] = validation_set['ID']\n",
    "\n",
    "sub_df = sub_df[['ID', 'target']]"
   ]
  },
  {
   "cell_type": "code",
   "execution_count": null,
   "metadata": {},
   "outputs": [],
   "source": [
    "sub_df.head()"
   ]
  },
  {
   "cell_type": "code",
   "execution_count": null,
   "metadata": {},
   "outputs": [],
   "source": [
    "SUB_FILE_NAME = 'submission.csv'\n",
    "sub_df.to_csv(SUB_FILE_NAME, index=False)"
   ]
  },
  {
   "cell_type": "code",
   "execution_count": null,
   "metadata": {},
   "outputs": [],
   "source": [
    "\n",
    "\n"
   ]
  },
  {
   "cell_type": "code",
   "execution_count": null,
   "metadata": {},
   "outputs": [],
   "source": []
  },
  {
   "cell_type": "code",
   "execution_count": null,
   "metadata": {},
   "outputs": [],
   "source": []
  },
  {
   "cell_type": "code",
   "execution_count": null,
   "metadata": {},
   "outputs": [],
   "source": []
  },
  {
   "cell_type": "code",
   "execution_count": null,
   "metadata": {},
   "outputs": [],
   "source": [
    "#from sklearn.model_selection import KFold\n",
    "#from sklearn.model_selection import KFold\n",
    "#kf = KFold(n_splits = 5, shuffle = True, random_state = 42)\n",
    "\n",
    "#df = pd.read_csv('/kaggle/input/covidornot/Trainhot.csv')\n",
    "\n",
    "\n",
    "#indexs = next(kf.split(df), None)\n",
    "\n",
    "#indexs = next(kfold.split(df), None)\n",
    "\n",
    "#train = df.iloc[indexs[0]]\n",
    "#test =  df.iloc[indexs[1]]\n",
    "\n",
    "#print(train.shape)\n",
    "#print(test.shape)\n",
    "\n",
    "#test_path = '/kaggle/input/covidornot/test.csv'\n",
    "#validation_set = pd.read_csv(test_path)\n",
    "#valid_pred = np.zeros(len(validation_set))"
   ]
  },
  {
   "cell_type": "code",
   "execution_count": null,
   "metadata": {},
   "outputs": [],
   "source": [
    "from sklearn.model_selection import KFold, StratifiedKFold\n",
    "MODEL_NAME = 'roberta-base'\n",
    "#MODEL_NAME = 'roberta-large'\n",
    "t = text.Transformer(MODEL_NAME, maxlen=500,  class_names=['not','covid'])"
   ]
  },
  {
   "cell_type": "code",
   "execution_count": null,
   "metadata": {},
   "outputs": [],
   "source": [
    "df = pd.read_csv('/kaggle/input/covidornot/Trainhot.csv')\n",
    "\n",
    "seed = 42\n",
    "n_folds = 10\n",
    "kfold = KFold(n_splits= n_folds, shuffle=True,random_state=seed)\n",
    "\n",
    "test_path = '/kaggle/input/covidornot/test.csv'\n",
    "validation_set = pd.read_csv(test_path)\n",
    "#valid_pred = np.zeros(len(validation_set))\n",
    "valid_pred = np.zeros(len(validation_set))\n",
    "\n",
    " \n",
    "\n",
    "for i,(train_index,test_index) in enumerate(kfold.split(df)):\n",
    "    (x_train),x_test = list(df.loc[train_index,'text']),list(df.loc[test_index,'text'])\n",
    "    y_train,y_test = np.asarray(df.loc[train_index,'target']),np.asarray(df.loc[test_index,'target'])\n",
    "\n",
    "    trn = t.preprocess_train(x_train, y_train)\n",
    "    val = t.preprocess_test(x_test, y_test)\n",
    "    model = t.get_classifier()\n",
    "    learner = ktrain.get_learner(model, train_data=trn, val_data=val, batch_size=6)\n",
    "    #learner.lr_find(show_plot=True, max_epochs=1)\n",
    "    #learner.fit_onecycle(3e-5, 3)\n",
    "    learner.autofit(1e-5)\n",
    "    predictor = ktrain.get_predictor(learner.model,preproc=t )\n",
    "    data = validation_set['text']\n",
    "    data = np.asarray(data)\n",
    "    pred = predictor.predict(data,return_proba=True)\n",
    "    #if i == 1:\n",
    "    #    pred1 = pred[:,1]\n",
    "    #elif i==2:\n",
    "    #    pred2 = pred[:,1]\n",
    "    #if i == 3:\n",
    "    #    pred3 = pred[:,1]\n",
    "    #elif i==4:\n",
    "    #    pred4 = pred[:,1]\n",
    "    #else :\n",
    "    #    pred5 = pred[:,1]\n",
    "    \n",
    "    valid_pred += pred[:,1]\n",
    "\n",
    "\n",
    "valid_pred /= n_folds"
   ]
  },
  {
   "cell_type": "code",
   "execution_count": null,
   "metadata": {},
   "outputs": [],
   "source": [
    "sub_df = pd.DataFrame(valid_pred, columns=['target'])\n",
    "sub_df['ID'] = validation_set['ID']\n",
    "\n",
    "sub_df = sub_df[['ID', 'target']]"
   ]
  },
  {
   "cell_type": "code",
   "execution_count": null,
   "metadata": {},
   "outputs": [],
   "source": [
    "sub_df.head()"
   ]
  },
  {
   "cell_type": "code",
   "execution_count": null,
   "metadata": {},
   "outputs": [],
   "source": [
    "#sub_df = sub_df[['ID', 'target']]\n",
    "SUB_FILE_NAME = 'submissionpred2.csv'\n",
    "sub_df.to_csv(SUB_FILE_NAME, index=False)"
   ]
  },
  {
   "cell_type": "code",
   "execution_count": 1,
   "metadata": {},
   "outputs": [
    {
     "data": {
      "text/plain": [
       "96425.0"
      ]
     },
     "execution_count": 1,
     "metadata": {},
     "output_type": "execute_result"
    }
   ],
   "source": []
  },
  {
   "cell_type": "code",
   "execution_count": null,
   "metadata": {},
   "outputs": [],
   "source": []
  }
 ],
 "metadata": {
  "kernelspec": {
   "display_name": "Python 3",
   "language": "python",
   "name": "python3"
  },
  "language_info": {
   "codemirror_mode": {
    "name": "ipython",
    "version": 3
   },
   "file_extension": ".py",
   "mimetype": "text/x-python",
   "name": "python",
   "nbconvert_exporter": "python",
   "pygments_lexer": "ipython3",
   "version": "3.7.3"
  }
 },
 "nbformat": 4,
 "nbformat_minor": 4
}
